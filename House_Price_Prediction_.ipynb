{
  "nbformat": 4,
  "nbformat_minor": 0,
  "metadata": {
    "colab": {
      "provenance": [],
      "authorship_tag": "ABX9TyONG7XoVS+f3GndbVOL1cvB",
      "include_colab_link": true
    },
    "kernelspec": {
      "name": "python3",
      "display_name": "Python 3"
    },
    "language_info": {
      "name": "python"
    }
  },
  "cells": [
    {
      "cell_type": "markdown",
      "metadata": {
        "id": "view-in-github",
        "colab_type": "text"
      },
      "source": [
        "<a href=\"https://colab.research.google.com/github/SodisettiRakesh123/SkillCraft/blob/main/House_Price_Prediction_.ipynb\" target=\"_parent\"><img src=\"https://colab.research.google.com/assets/colab-badge.svg\" alt=\"Open In Colab\"/></a>"
      ]
    },
    {
      "cell_type": "code",
      "source": [
        "import numpy as np\n",
        "import pandas as pd\n",
        "from sklearn.model_selection import train_test_split\n",
        "from sklearn.linear_model import LinearRegression\n",
        "from sklearn.metrics import mean_squared_error\n",
        "from sklearn.metrics import r2_score\n",
        "df=pd.read_csv(\"/content/archive (10).zip\")"
      ],
      "metadata": {
        "id": "u84A152zQU5_"
      },
      "execution_count": 9,
      "outputs": []
    },
    {
      "cell_type": "code",
      "source": [
        "print(df.head())\n",
        "print(df.columns)"
      ],
      "metadata": {
        "colab": {
          "base_uri": "https://localhost:8080/"
        },
        "id": "kJEABAkNTImp",
        "outputId": "e7959786-df9b-4624-d813-b7606516779c"
      },
      "execution_count": 12,
      "outputs": [
        {
          "output_type": "stream",
          "name": "stdout",
          "text": [
            "   Id  Area  Bedrooms  Bathrooms  Floors  YearBuilt  Location  Condition  \\\n",
            "0   1  1360         5          4       3       1970  Downtown  Excellent   \n",
            "1   2  4272         5          4       3       1958  Downtown  Excellent   \n",
            "2   3  3592         2          2       3       1938  Downtown       Good   \n",
            "3   4   966         4          2       2       1902  Suburban       Fair   \n",
            "4   5  4926         1          4       2       1975  Downtown       Fair   \n",
            "\n",
            "  Garage   Price  \n",
            "0     No  149919  \n",
            "1     No  424998  \n",
            "2     No  266746  \n",
            "3    Yes  244020  \n",
            "4    Yes  636056  \n",
            "Index(['Id', 'Area', 'Bedrooms', 'Bathrooms', 'Floors', 'YearBuilt',\n",
            "       'Location', 'Condition', 'Garage', 'Price'],\n",
            "      dtype='object')\n"
          ]
        }
      ]
    },
    {
      "cell_type": "code",
      "source": [
        "X=df[['Area', 'Bathrooms', 'Bedrooms']]\n",
        "Y=df['Price']\n",
        "X_train,X_test,Y_train,Y_test=train_test_split(X,Y,test_size=0.2,random_state=42)\n",
        "model=LinearRegression()\n",
        "model.fit(X_train,Y_train)\n",
        "Y_pred=model.predict(X_test)\n",
        "mse=mean_squared_error(Y_test,Y_pred)\n",
        "r2=r2_score(Y_test,Y_pred)\n",
        "print(\"Mean Squared Error:\",mse)\n",
        "print(\"R-squared:\",r2)"
      ],
      "metadata": {
        "colab": {
          "base_uri": "https://localhost:8080/"
        },
        "id": "K7xOydZsTR0e",
        "outputId": "4c79016a-3aa9-494a-e238-f0ec1bd3d399"
      },
      "execution_count": 17,
      "outputs": [
        {
          "output_type": "stream",
          "name": "stdout",
          "text": [
            "Mean Squared Error: 78440549944.81049\n",
            "R-squared: -0.008248471565956539\n"
          ]
        }
      ]
    },
    {
      "cell_type": "code",
      "source": [
        "new_house=pd.DataFrame({'Area':[1500],'Bathrooms':[3],'Bedrooms':[4]})\n",
        "predicted_price=model.predict(new_house)\n",
        "print(\"Predicted Price:\",predicted_price[0])"
      ],
      "metadata": {
        "colab": {
          "base_uri": "https://localhost:8080/"
        },
        "id": "o6cWFjqXTuDz",
        "outputId": "af87579e-1f00-49f9-fe4c-a275d0c9fc3f"
      },
      "execution_count": 18,
      "outputs": [
        {
          "output_type": "stream",
          "name": "stdout",
          "text": [
            "Predicted Price: 531808.9031121279\n"
          ]
        }
      ]
    }
  ]
}