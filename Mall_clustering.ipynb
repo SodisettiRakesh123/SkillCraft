{
  "nbformat": 4,
  "nbformat_minor": 0,
  "metadata": {
    "colab": {
      "provenance": [],
      "authorship_tag": "ABX9TyPTtESjF8LD5it5cjjsvdbf",
      "include_colab_link": true
    },
    "kernelspec": {
      "name": "python3",
      "display_name": "Python 3"
    },
    "language_info": {
      "name": "python"
    }
  },
  "cells": [
    {
      "cell_type": "markdown",
      "metadata": {
        "id": "view-in-github",
        "colab_type": "text"
      },
      "source": [
        "<a href=\"https://colab.research.google.com/github/SodisettiRakesh123/SkillCraft/blob/main/Mall_clustering.ipynb\" target=\"_parent\"><img src=\"https://colab.research.google.com/assets/colab-badge.svg\" alt=\"Open In Colab\"/></a>"
      ]
    },
    {
      "cell_type": "code",
      "source": [
        "import numpy as np\n",
        "import pandas as pd\n",
        "from sklearn.cluster import KMeans\n",
        "from sklearn.preprocessing import LabelEncoder\n",
        "from sklearn.preprocessing import MinMaxScaler\n",
        "import seaborn as sns\n",
        "import matplotlib.pyplot as plt\n",
        "from sklearn.preprocessing import StandardScaler\n",
        "from sklearn.decomposition import PCA\n",
        "df=pd.read_csv('/content/archive (9).zip')\n",
        "print(df.head())\n",
        "print(df.info())\n",
        "print(df.columns)"
      ],
      "metadata": {
        "colab": {
          "base_uri": "https://localhost:8080/"
        },
        "id": "nmM8r_9SdOiK",
        "outputId": "88e67a9c-59d5-4cf7-fc76-2964d91771a6"
      },
      "execution_count": 18,
      "outputs": [
        {
          "output_type": "stream",
          "name": "stdout",
          "text": [
            "   CustomerID   Genre  Age  Annual Income (k$)  Spending Score (1-100)\n",
            "0           1    Male   19                  15                      39\n",
            "1           2    Male   21                  15                      81\n",
            "2           3  Female   20                  16                       6\n",
            "3           4  Female   23                  16                      77\n",
            "4           5  Female   31                  17                      40\n",
            "<class 'pandas.core.frame.DataFrame'>\n",
            "RangeIndex: 200 entries, 0 to 199\n",
            "Data columns (total 5 columns):\n",
            " #   Column                  Non-Null Count  Dtype \n",
            "---  ------                  --------------  ----- \n",
            " 0   CustomerID              200 non-null    int64 \n",
            " 1   Genre                   200 non-null    object\n",
            " 2   Age                     200 non-null    int64 \n",
            " 3   Annual Income (k$)      200 non-null    int64 \n",
            " 4   Spending Score (1-100)  200 non-null    int64 \n",
            "dtypes: int64(4), object(1)\n",
            "memory usage: 7.9+ KB\n",
            "None\n",
            "Index(['CustomerID', 'Genre', 'Age', 'Annual Income (k$)',\n",
            "       'Spending Score (1-100)'],\n",
            "      dtype='object')\n"
          ]
        }
      ]
    },
    {
      "cell_type": "code",
      "source": [
        "scaler=StandardScaler()\n",
        "df[['Age', 'Annual Income (k$)', 'Spending Score (1-100)']]=scaler.fit_transform(df[['Age', 'Annual Income (k$)', 'Spending Score (1-100)']])\n",
        "pca=PCA(n_components=2)\n",
        "df[['x', 'y']]=pca.fit_transform(df[['Age', 'Annual Income (k$)', 'Spending Score (1-100)']])\n",
        "print(df.head())\n",
        "print(df.head())"
      ],
      "metadata": {
        "colab": {
          "base_uri": "https://localhost:8080/"
        },
        "id": "d3EVpyJkfKM0",
        "outputId": "f8b4ede4-7dc6-4b00-a23e-517c6a4cdf30"
      },
      "execution_count": 21,
      "outputs": [
        {
          "output_type": "stream",
          "name": "stdout",
          "text": [
            "   CustomerID   Genre       Age  Annual Income (k$)  Spending Score (1-100)  \\\n",
            "0           1    Male -1.424569           -1.738999               -0.434801   \n",
            "1           2    Male -1.281035           -1.738999                1.195704   \n",
            "2           3  Female -1.352802           -1.700830               -1.715913   \n",
            "3           4  Female -1.137502           -1.700830                1.040418   \n",
            "4           5  Female -0.563369           -1.662660               -0.395980   \n",
            "\n",
            "          x         y  \n",
            "0 -0.615720 -1.763481  \n",
            "1 -1.665793 -1.820747  \n",
            "2  0.337862 -1.674799  \n",
            "3 -1.456573 -1.772430  \n",
            "4 -0.038465 -1.662740  \n",
            "   CustomerID   Genre       Age  Annual Income (k$)  Spending Score (1-100)  \\\n",
            "0           1    Male -1.424569           -1.738999               -0.434801   \n",
            "1           2    Male -1.281035           -1.738999                1.195704   \n",
            "2           3  Female -1.352802           -1.700830               -1.715913   \n",
            "3           4  Female -1.137502           -1.700830                1.040418   \n",
            "4           5  Female -0.563369           -1.662660               -0.395980   \n",
            "\n",
            "          x         y  \n",
            "0 -0.615720 -1.763481  \n",
            "1 -1.665793 -1.820747  \n",
            "2  0.337862 -1.674799  \n",
            "3 -1.456573 -1.772430  \n",
            "4 -0.038465 -1.662740  \n"
          ]
        }
      ]
    },
    {
      "cell_type": "code",
      "source": [
        "from sklearn.metrics import silhouette_score\n",
        "silhouette_scores=[]\n",
        "from sklearn.metrics import silhouette_score\n",
        "silhouette_scores=[]\n",
        "for k in range(2,10):\n",
        "  kmeans=KMeans(n_clusters=k,init='k-means++',random_state=42)\n",
        "  clusters=kmeans.fit_predict(df[['Age','Annual Income (k$)','Spending Score (1-100)']])\n",
        "  silhouette_scores.append(silhouette_score(df[['Age','Annual Income (k$)','Spending Score (1-100)']],clusters))\n",
        "  optimal_k=silhouette_scores.index(max(silhouette_scores))+2"
      ],
      "metadata": {
        "id": "DyRViOlmfYSk"
      },
      "execution_count": 24,
      "outputs": []
    },
    {
      "cell_type": "code",
      "source": [
        "kmeans=KMeans(n_clusters=optimal_k,init='k-means++',random_state=42)\n",
        "clusters=kmeans.fit_predict(df[['Age','Annual Income (k$)','Spending Score (1-100)']])"
      ],
      "metadata": {
        "id": "qaWCNaOQgfxk"
      },
      "execution_count": 25,
      "outputs": []
    },
    {
      "cell_type": "code",
      "source": [
        "df['Cluster']=clusters\n",
        "cluster_analysis=df.drop('Genre', axis=1).groupby('Cluster').mean()\n",
        "print(cluster_analysis)\n",
        "print(df.drop('Genre', axis=1).groupby('Cluster').mean())\n"
      ],
      "metadata": {
        "colab": {
          "base_uri": "https://localhost:8080/"
        },
        "id": "yHBtGJb9gz80",
        "outputId": "e5c16793-f4a3-41fd-98b5-08a7a1035d68"
      },
      "execution_count": 32,
      "outputs": [
        {
          "output_type": "stream",
          "name": "stdout",
          "text": [
            "         CustomerID       Age  Annual Income (k$)  Spending Score (1-100)  \\\n",
            "Cluster                                                                     \n",
            "0         83.777778  1.254721           -0.240213               -0.043998   \n",
            "1        162.000000 -0.441917            0.991583                1.239503   \n",
            "2         24.200000 -0.953779           -1.300814                1.010913   \n",
            "3         97.700000 -0.913231           -0.043322               -0.223224   \n",
            "4        167.066667  0.369598            1.128797               -1.252642   \n",
            "5         23.190476  0.478957           -1.308230               -1.196444   \n",
            "\n",
            "                x         y  \n",
            "Cluster                      \n",
            "0        0.928920 -0.200452  \n",
            "1       -1.235118  0.930282  \n",
            "2       -1.325169 -1.366230  \n",
            "3       -0.485369 -0.062365  \n",
            "4        1.091484  1.185937  \n",
            "5        1.246081 -1.247069  \n",
            "         CustomerID       Age  Annual Income (k$)  Spending Score (1-100)  \\\n",
            "Cluster                                                                     \n",
            "0         83.777778  1.254721           -0.240213               -0.043998   \n",
            "1        162.000000 -0.441917            0.991583                1.239503   \n",
            "2         24.200000 -0.953779           -1.300814                1.010913   \n",
            "3         97.700000 -0.913231           -0.043322               -0.223224   \n",
            "4        167.066667  0.369598            1.128797               -1.252642   \n",
            "5         23.190476  0.478957           -1.308230               -1.196444   \n",
            "\n",
            "                x         y  \n",
            "Cluster                      \n",
            "0        0.928920 -0.200452  \n",
            "1       -1.235118  0.930282  \n",
            "2       -1.325169 -1.366230  \n",
            "3       -0.485369 -0.062365  \n",
            "4        1.091484  1.185937  \n",
            "5        1.246081 -1.247069  \n"
          ]
        }
      ]
    },
    {
      "cell_type": "code",
      "source": [],
      "metadata": {
        "id": "G-6fyrOvhEoc"
      },
      "execution_count": null,
      "outputs": []
    }
  ]
}